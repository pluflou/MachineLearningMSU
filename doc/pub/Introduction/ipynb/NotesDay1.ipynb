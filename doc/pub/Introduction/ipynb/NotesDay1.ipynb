{
 "cells": [
  {
   "cell_type": "markdown",
   "metadata": {},
   "source": [
    "### Notes Day 1"
   ]
  },
  {
   "cell_type": "markdown",
   "metadata": {},
   "source": [
    "#### INTRO\n",
    "relative error isnt much used when fitting a continuous fn. Chi sq is preferred because for most algos we dont have mathematical expressions for the parameters and we need to take derivatives. "
   ]
  },
  {
   "cell_type": "markdown",
   "metadata": {},
   "source": [
    "read_fwf -> formatted write file\n",
    "have to specify how file was written"
   ]
  },
  {
   "cell_type": "markdown",
   "metadata": {},
   "source": [
    "#### REG"
   ]
  },
  {
   "cell_type": "markdown",
   "metadata": {},
   "source": [
    "assumption: there exists a fn f that describes the data"
   ]
  },
  {
   "cell_type": "markdown",
   "metadata": {},
   "source": [
    "-> frequentist approach: let the data decide what the predictions are\n",
    "as opposed to following a bayesian method: likelihood fns. But our matrices are too large for this to be efficient. So we stick to this approach most commonly\n",
    "\n",
    "MSE is chi2/var"
   ]
  },
  {
   "cell_type": "markdown",
   "metadata": {},
   "source": [
    "#### LOG REG Exercises"
   ]
  },
  {
   "cell_type": "code",
   "execution_count": 28,
   "metadata": {},
   "outputs": [],
   "source": [
    "import numpy as np\n",
    "import sklearn.linear_model as skl\n",
    "from sklearn.metrics import mean_squared_error, r2_score\n",
    "from sklearn.model_selection import train_test_split\n",
    "import matplotlib.pyplot as plt \n",
    "\n",
    "import scipy.linalg as scl"
   ]
  },
  {
   "cell_type": "markdown",
   "metadata": {},
   "source": [
    "**ex1**"
   ]
  },
  {
   "cell_type": "code",
   "execution_count": 29,
   "metadata": {},
   "outputs": [
    {
     "name": "stdout",
     "output_type": "stream",
     "text": [
      "0.029567671549563048\n"
     ]
    }
   ],
   "source": [
    "x = np.random.rand(100,1)\n",
    "noise=1*np.random.randn(100,1)\n",
    "y= 5*x**2 + noise\n",
    "print(np.mean(noise))"
   ]
  },
  {
   "cell_type": "markdown",
   "metadata": {},
   "source": [
    "parametrization of the data set fitting a second-order polynomial"
   ]
  },
  {
   "cell_type": "code",
   "execution_count": 33,
   "metadata": {},
   "outputs": [],
   "source": [
    "#create the design matrix (like we did with liquid drop model)\n",
    "#then solve for beta by solving for the invertible matrix"
   ]
  },
  {
   "cell_type": "markdown",
   "metadata": {},
   "source": [
    "then use scikit learn and compare"
   ]
  },
  {
   "cell_type": "code",
   "execution_count": 32,
   "metadata": {},
   "outputs": [
    {
     "name": "stdout",
     "output_type": "stream",
     "text": [
      "The coeff: 5.55\n",
      "The intercept alpha: -1.16\n",
      "MSE is 1.03\n",
      "r2 is 0.67\n"
     ]
    },
    {
     "data": {
      "image/png": "[encoded data removed]",
      "text/plain": [
       "<Figure size 432x288 with 1 Axes>"
      ]
     },
     "metadata": {
      "needs_background": "light"
     },
     "output_type": "display_data"
    }
   ],
   "source": [
    "linreg=skl.LinearRegression()\n",
    "linreg.fit(x,y)\n",
    "\n",
    "y_predict= linreg.predict(x)\n",
    "print('The coeff: %.2f' % linreg.coef_)\n",
    "print('The intercept alpha: %.2f' % linreg.intercept_)\n",
    "print('MSE is %.2f' % mean_squared_error(y, y_predict) )\n",
    "print('r2 is %.2f' % r2_score(y, y_predict))\n",
    "plt.plot(x, y_predict, \"r-\")\n",
    "plt.plot(x, y ,'ro')\n",
    "#plt.axis([0.0,1.0,1.5, 7.0])\n",
    "plt.xlabel(r'$x$')\n",
    "plt.ylabel(r'$y$')\n",
    "plt.title(r'Linear Regression fit ')\n",
    "plt.show()"
   ]
  },
  {
   "cell_type": "markdown",
   "metadata": {},
   "source": [
    "**ex3**"
   ]
  },
  {
   "cell_type": "markdown",
   "metadata": {},
   "source": [
    "Write your own code for the Ridge method and compute the parametrization for different values of $\\lambda$. Compare and analyze your results with those from exercise 1. Study the dependence on $\\lambda$ while also varying the strength of the noise in your expression for $y(x)$. \n",
    "repeat with scikit-learn (run with same random numbers)"
   ]
  },
  {
   "cell_type": "code",
   "execution_count": 45,
   "metadata": {},
   "outputs": [
    {
     "name": "stdout",
     "output_type": "stream",
     "text": [
      "Mean squared error: 1.03\n",
      "Variance score: 0.67\n",
      "[[5.38483577]] [-1.07890472]\n"
     ]
    },
    {
     "data": {
      "image/png": "[encoded data removed]",
      "text/plain": [
       "<Figure size 432x288 with 1 Axes>"
      ]
     },
     "metadata": {
      "needs_background": "light"
     },
     "output_type": "display_data"
    }
   ],
   "source": [
    "_lambda = 0.2\n",
    "clf_ridge = skl.Ridge(alpha=_lambda).fit(x, y)\n",
    "yridge= clf_ridge.predict(x)\n",
    "\n",
    "print(\"Mean squared error: %.2f\" % mean_squared_error(y, yridge))\n",
    "# Explained variance score: 1 is perfect prediction                                 \n",
    "print('Variance score: %.2f' % r2_score(y, yridge))\n",
    "print(clf_ridge.coef_, clf_ridge.intercept_)\n",
    "\n",
    "plt.plot(x, yridge, \"r-\")\n",
    "plt.plot(x, y ,'ro')\n",
    "#plt.axis([0.0,1.0,1.5, 7.0])\n",
    "plt.xlabel(r'$x$')\n",
    "plt.ylabel(r'$y$')\n",
    "plt.title(r'Ridge Regression fit ')\n",
    "plt.show()"
   ]
  },
  {
   "cell_type": "markdown",
   "metadata": {},
   "source": [
    "\n",
    "3. Our next step is to study the variance of the parameters $\\beta_1$ and $\\beta_2$ (assuming that we are parametrizing our function with a second-order polynomial. We will use standard linear regression and the Ridge regression.  You can now opt for either writing your own function that calculates the variance of these paramaters (recall that this is equal to the diagonal elements of the matrix $(\\hat{X}^T\\hat{X})+\\lambda\\hat{I})^{-1}$) or use the functionality of **scikit-learn** and compute their variances. Discuss the results of these variances as functions \n",
    "\n",
    "4. Repeat the previous step but add now the Lasso method. Discuss your results and compare with standard regression and the Ridge regression results.\n",
    "\n",
    "5. Try to implement the cross-validation as well. \n",
    "\n",
    "6. Finally, using **scikit-learn** or your own code, compute also the mean square error, a risk metric corresponding to the expected value of the squared (quadratic) error and r2"
   ]
  },
  {
   "cell_type": "code",
   "execution_count": null,
   "metadata": {},
   "outputs": [],
   "source": []
  }
 ],
 "metadata": {
  "kernelspec": {
   "display_name": "Python 3",
   "language": "python",
   "name": "python3"
  },
  "language_info": {
   "codemirror_mode": {
    "name": "ipython",
    "version": 3
   },
   "file_extension": ".py",
   "mimetype": "text/x-python",
   "name": "python",
   "nbconvert_exporter": "python",
   "pygments_lexer": "ipython3",
   "version": "3.5.2"
  }
 },
 "nbformat": 4,
 "nbformat_minor": 2
}
